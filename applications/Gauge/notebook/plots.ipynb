{
 "cells": [
  {
   "cell_type": "code",
   "execution_count": 26,
   "metadata": {
    "collapsed": false
   },
   "outputs": [],
   "source": [
    "from utils import *\n",
    "from IPython.display import HTML"
   ]
  },
  {
   "cell_type": "code",
   "execution_count": 45,
   "metadata": {
    "collapsed": false
   },
   "outputs": [
    {
     "name": "stdout",
     "output_type": "stream",
     "text": [
      "output -rwxrwx--- root     sdcard_r      655 2016-01-21 04:35 1453318492853.txt\r\n",
      "-rwxrwx--- root     sdcard_r     2424 2016-01-21 04:38 1453318543385.txt\r\n",
      "-rwxrwx--- root     sdcard_r     1180 2016-01-21 04:40 1453318717078.txt\r\n",
      "-rwxrwx--- root     sdcard_r      805 2016-01-21 04:42 1453318847937.txt\r\n",
      "-rwxrwx--- root     sdcard_r     5251 2016-01-21 04:56 1453319423688_energy_time.txt\r\n",
      "-rwxrwx--- root     sdcard_r    84674 2016-01-21 06:24 1453319774728_energy_time.txt\r\n",
      "\n",
      "[]\n"
     ]
    }
   ],
   "source": [
    "print get_runs()"
   ]
  },
  {
   "cell_type": "code",
   "execution_count": 49,
   "metadata": {
    "collapsed": false
   },
   "outputs": [
    {
     "data": {
      "text/html": [
       "<iframe id=\"igraph\" scrolling=\"no\" style=\"border:none;\"seamless=\"seamless\" src=\"https://plot.ly/~strin/52.embed\" height=\"525px\" width=\"100%\"></iframe>"
      ],
      "text/plain": [
       "<IPython.core.display.HTML object>"
      ]
     },
     "execution_count": 49,
     "metadata": {},
     "output_type": "execute_result"
    }
   ],
   "source": [
    "HTML(plot_xy(*get_time_energy('1453319774728')))"
   ]
  },
  {
   "cell_type": "code",
   "execution_count": null,
   "metadata": {
    "collapsed": true
   },
   "outputs": [],
   "source": []
  }
 ],
 "metadata": {
  "kernelspec": {
   "display_name": "Python 2",
   "language": "python",
   "name": "python2"
  },
  "language_info": {
   "codemirror_mode": {
    "name": "ipython",
    "version": 2
   },
   "file_extension": ".py",
   "mimetype": "text/x-python",
   "name": "python",
   "nbconvert_exporter": "python",
   "pygments_lexer": "ipython2",
   "version": "2.7.10"
  }
 },
 "nbformat": 4,
 "nbformat_minor": 0
}
