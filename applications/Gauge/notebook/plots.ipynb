{
 "cells": [
  {
   "cell_type": "code",
   "execution_count": 5,
   "metadata": {
    "collapsed": false
   },
   "outputs": [],
   "source": [
    "from utils import *\n",
    "from IPython.display import HTML"
   ]
  },
  {
   "cell_type": "code",
   "execution_count": 6,
   "metadata": {
    "collapsed": false
   },
   "outputs": [
    {
     "name": "stdout",
     "output_type": "stream",
     "text": [
      "output -rwxrwx--- root     sdcard_r      655 2016-01-21 04:35 1453318492853.txt\r\n",
      "-rwxrwx--- root     sdcard_r     2424 2016-01-21 04:38 1453318543385.txt\r\n",
      "-rwxrwx--- root     sdcard_r     1180 2016-01-21 04:40 1453318717078.txt\r\n",
      "-rwxrwx--- root     sdcard_r      805 2016-01-21 04:42 1453318847937.txt\r\n",
      "-rwxrwx--- root     sdcard_r     5251 2016-01-21 04:56 1453319423688_energy_time.txt\r\n",
      "-rwxrwx--- root     sdcard_r   213792 2016-01-21 08:35 1453319774728_energy_time.txt\r\n",
      "-rwxrwx--- root     sdcard_r        0 2016-01-21 08:35 1453332904353_energy_time.txt\r\n",
      "-rwxrwx--- root     sdcard_r        0 2016-01-21 08:35 1453332906657_energy_time.txt\r\n",
      "-rwxrwx--- root     sdcard_r        0 2016-01-21 08:35 1453332907404_energy_time.txt\r\n",
      "-rwxrwx--- root     sdcard_r      531 2016-01-21 08:35 1453332908205_energy_time.txt\r\n",
      "-rwxrwx--- root     sdcard_r        0 2016-01-21 08:35 1453332946439_energy_time.txt\r\n",
      "-rwxrwx--- root     sdcard_r        0 2016-01-21 08:35 1453332947188_energy_time.txt\r\n",
      "-rwxrwx--- root     sdcard_r        0 2016-01-21 08:35 1453332947504_energy_time.txt\r\n",
      "-rwxrwx--- root     sdcard_r        0 2016-01-21 08:35 1453332948052_energy_time.txt\r\n",
      "-rwxrwx--- root     sdcard_r       82 2016-01-21 08:35 1453332949109_energy_time.txt\r\n",
      "-rwxrwx--- root     sdcard_r     2782 2016-01-21 09:21 1453335500515_energy_time.txt\r\n",
      "-rwxrwx--- root     sdcard_r      944 2016-01-21 09:22 1453335697113_energy_time.txt\r\n",
      "-rwxrwx--- root     sdcard_r      711 2016-01-21 09:24 1453335819145_energy_time.txt\r\n",
      "-rwxrwx--- root     sdcard_r     1770 2016-01-21 09:26 1453335872332_energy_time.txt\r\n",
      "-rwxrwx--- root     sdcard_r      799 2016-01-21 09:27 1453336023429_energy_time.txt\r\n",
      "-rwxrwx--- root     sdcard_r     3329 2016-01-21 09:31 1453336083532_energy_time.txt\r\n",
      "-rwxrwx--- root     sdcard_r     1095 2016-01-21 09:33 1453336321708_energy_time.txt\r\n",
      "-rwxrwx--- root     sdcard_r     1275 2016-01-21 09:35 1453336416097_energy_time.txt\r\n",
      "-rwxrwx--- root     sdcard_r     1102 2016-01-21 09:36 1453336508261_energy_time.txt\r\n",
      "-rwxrwx--- root     sdcard_r      526 2016-01-21 09:37 1453336591538_energy_time.txt\r\n",
      "-rwxrwx--- root     sdcard_r      681 2016-01-21 09:38 1453336668804_energy_time.txt\r\n",
      "-rwxrwx--- root     sdcard_r     1412 2016-01-21 09:57 1453337777524_energy_time.txt\r\n",
      "-rwxrwx--- root     sdcard_r     1673 2016-01-21 09:59 1453337879806_energy_time.txt\r\n",
      "-rwxrwx--- root     sdcard_r     5525 2016-01-21 10:06 1453337996983_energy_time.txt\r\n",
      "-rwxrwx--- root     sdcard_r      160 2016-01-21 10:08 1453338367555_datasize.txt\r\n",
      "-rwxrwx--- root     sdcard_r     2227 2016-01-21 10:08 1453338367555_energy_time.txt\r\n",
      "-rwxrwx--- root     sdcard_r      155 2016-01-21 10:10 1453338518574_datasize.txt\r\n",
      "-rwxrwx--- root     sdcard_r     2930 2016-01-21 10:11 1453338518574_energy_time.txt\r\n",
      "-rwxrwx--- root     sdcard_r        0 2016-01-21 10:11 1453338713304_datasize.txt\r\n",
      "-rwxrwx--- root     sdcard_r        0 2016-01-21 10:11 1453338713304_energy_time.txt\r\n",
      "-rwxrwx--- root     sdcard_r        0 2016-01-21 10:11 1453338715608_datasize.txt\r\n",
      "-rwxrwx--- root     sdcard_r       27 2016-01-21 10:11 1453338715608_energy_time.txt\r\n",
      "-rwxrwx--- root     sdcard_r        0 2016-01-21 10:12 1453338721987_datasize.txt\r\n",
      "-rwxrwx--- root     sdcard_r      225 2016-01-21 10:12 1453338721987_energy_time.txt\r\n",
      "-rwxrwx--- root     sdcard_r      306 2016-01-21 10:19 1453338744020_datasize.txt\r\n",
      "-rwxrwx--- root     sdcard_r   212711 2016-01-22 03:15 1453338744020_energy_time.txt\r\n",
      "-rwxrwx--- root     sdcard_r        0 2016-01-22 07:53 1453416786011_datasize.txt\r\n",
      "-rwxrwx--- root     sdcard_r        0 2016-01-22 07:53 1453416786011_energy_time.txt\r\n",
      "-rwxrwx--- root     sdcard_r        0 2016-01-22 07:53 1453416788226_datasize.txt\r\n",
      "-rwxrwx--- root     sdcard_r       26 2016-01-22 07:53 1453416788226_energy_time.txt\r\n",
      "-rwxrwx--- root     sdcard_r        0 2016-01-22 07:53 1453416803642_datasize.txt\r\n",
      "-rwxrwx--- root     sdcard_r     1706 2016-01-22 07:55 1453416803642_energy_time.txt\r\n",
      "-rwxrwx--- root     sdcard_r        0 2016-01-22 07:57 1453417036068_datasize.txt\r\n",
      "-rwxrwx--- root     sdcard_r     1855 2016-01-22 07:59 1453417036068_energy_time.txt\r\n",
      "-rwxrwx--- root     sdcard_r       92 2016-01-22 08:00 1453417176639_datasize.txt\r\n",
      "-rwxrwx--- root     sdcard_r     1220 2016-01-22 08:00 1453417176639_energy_time.txt\r\n",
      "-rwxrwx--- root     sdcard_r        0 2016-01-22 08:04 1453417464394_datasize.txt\r\n",
      "-rwxrwx--- root     sdcard_r        0 2016-01-22 08:04 1453417464394_energy_time.txt\r\n",
      "-rwxrwx--- root     sdcard_r        0 2016-01-22 08:05 1453417552912_datasize.txt\r\n",
      "-rwxrwx--- root     sdcard_r      588 2016-01-22 08:06 1453417552912_energy_time.txt\r\n",
      "-rwxrwx--- root     sdcard_r        0 2016-01-22 08:06 1453417576170_datasize.txt\r\n",
      "-rwxrwx--- root     sdcard_r      280 2016-01-22 08:06 1453417576170_energy_time.txt\r\n",
      "-rwxrwx--- root     sdcard_r        0 2016-01-22 08:11 1453417916406_datasize.txt\r\n",
      "-rwxrwx--- root     sdcard_r        0 2016-01-22 08:11 1453417916406_energy_time.txt\r\n",
      "-rwxrwx--- root     sdcard_r        0 2016-01-22 08:22 1453418549624_datasize.txt\r\n",
      "-rwxrwx--- root     sdcard_r     2685 2016-01-22 08:25 1453418549624_energy_time.txt\r\n",
      "-rwxrwx--- root     sdcard_r        0 2016-01-22 08:24 1453418648526_datasize.txt\r\n",
      "-rwxrwx--- root     sdcard_r     1176 2016-01-22 08:25 1453418648526_energy_time.txt\r\n",
      "-rwxrwx--- root     sdcard_r        0 2016-01-22 08:24 1453418650675_datasize.txt\r\n",
      "-rwxrwx--- root     sdcard_r     1144 2016-01-22 08:25 1453418650675_energy_time.txt\r\n",
      "-rwxrwx--- root     sdcard_r      802 2016-01-22 08:35 1453419275371_energy_time.txt\r\n",
      "-rwxrwx--- root     sdcard_r      254 2016-01-22 08:35 1453419333880_energy_time.txt\r\n",
      "-rwxrwx--- root     sdcard_r       82 2016-01-22 08:35 1453419348206_energy_time.txt\r\n",
      "-rwxrwx--- root     sdcard_r     1418 2016-01-22 08:37 1453419362186_energy_time.txt\r\n",
      "-rwxrwx--- root     sdcard_r     1193 2016-01-22 08:37 1453419381504_energy_time.txt\r\n",
      "-rwxrwx--- root     sdcard_r     1163 2016-01-22 08:37 1453419382843_energy_time.txt\r\n",
      "-rwxrwx--- root     sdcard_r        0 2016-01-22 08:37 1453419466561_energy_time.txt\r\n",
      "-rwxrwx--- root     sdcard_r        0 2016-01-22 08:40 1453419634626_energy_time.txt\r\n",
      "-rwxrwx--- root     sdcard_r        0 2016-01-22 08:41 1453419704367_datasize.txt\r\n",
      "-rwxrwx--- root     sdcard_r     3101 2016-01-22 08:45 1453419704367_energy_time.txt\r\n",
      "-rwxrwx--- root     sdcard_r        0 2016-01-22 08:42 1453419759108_datasize.txt\r\n",
      "-rwxrwx--- root     sdcard_r     2325 2016-01-22 08:45 1453419759108_energy_time.txt\r\n",
      "-rwxrwx--- root     sdcard_r        0 2016-01-22 08:42 1453419761291_datasize.txt\r\n",
      "-rwxrwx--- root     sdcard_r     2295 2016-01-22 08:45 1453419761291_energy_time.txt\r\n",
      "-rwxrwx--- root     sdcard_r        0 2016-01-22 08:45 1453419918436_datasize.txt\r\n",
      "-rwxrwx--- root     sdcard_r     1266 2016-01-22 08:46 1453419918436_energy_time.txt\r\n",
      "-rwxrwx--- root     sdcard_r        0 2016-01-22 08:45 1453419950315_datasize.txt\r\n",
      "-rwxrwx--- root     sdcard_r      870 2016-01-22 08:46 1453419950315_energy_time.txt\r\n",
      "-rwxrwx--- root     sdcard_r        0 2016-01-22 08:46 1453419981453_datasize.txt\r\n",
      "-rwxrwx--- root     sdcard_r      436 2016-01-22 08:46 1453419981453_energy_time.txt\r\n",
      "-rwxrwx--- root     sdcard_r        0 2016-01-22 08:46 1453420000404_datasize.txt\r\n",
      "-rwxrwx--- root     sdcard_r      174 2016-01-22 08:46 1453420000404_energy_time.txt\r\n",
      "-rwxrwx--- root     sdcard_r        0 2016-01-22 08:46 1453420001891_datasize.txt\r\n",
      "-rwxrwx--- root     sdcard_r      142 2016-01-22 08:46 1453420001891_energy_time.txt\r\n",
      "-rwxrwx--- root     sdcard_r        0 2016-01-22 08:46 1453420016521_datasize.txt\r\n",
      "-rwxrwx--- root     sdcard_r        0 2016-01-22 08:46 1453420016521_energy_time.txt\r\n",
      "-rwxrwx--- root     sdcard_r        0 2016-01-22 08:49 1453420198364_datasize.txt\r\n",
      "-rwxrwx--- root     sdcard_r        0 2016-01-22 08:49 1453420198364_energy_time.txt\r\n",
      "-rwxrwx--- root     sdcard_r        0 2016-01-22 08:51 1453420280346_datasize.txt\r\n",
      "-rwxrwx--- root     sdcard_r        0 2016-01-22 08:51 1453420280346_energy_time.txt\r\n",
      "-rwxrwx--- root     sdcard_r        0 2016-01-22 08:51 1453420319345_datasize.txt\r\n",
      "-rwxrwx--- root     sdcard_r        0 2016-01-22 08:51 1453420319345_energy_time.txt\r\n",
      "-rwxrwx--- root     sdcard_r        0 2016-01-22 08:57 1453420625654_datasize.txt\r\n",
      "-rwxrwx--- root     sdcard_r        0 2016-01-22 08:57 1453420625654_energy_time.txt\r\n",
      "-rwxrwx--- root     sdcard_r        0 2016-01-22 08:57 1453420667862_datasize.txt\r\n",
      "-rwxrwx--- root     sdcard_r        0 2016-01-22 08:57 1453420667862_energy_time.txt\r\n",
      "-rwxrwx--- root     sdcard_r        0 2016-01-22 09:30 1453422600977_datasize.txt\r\n",
      "-rwxrwx--- root     sdcard_r        0 2016-01-22 09:30 1453422600977_energy_time.txt\r\n",
      "-rwxrwx--- root     sdcard_r        0 2016-01-22 09:31 1453422668260_datasize.txt\r\n",
      "-rwxrwx--- root     sdcard_r        0 2016-01-22 09:31 1453422668260_energy_time.txt\r\n",
      "-rwxrwx--- root     sdcard_r        0 2016-01-22 09:33 1453422818281_datasize.txt\r\n",
      "-rwxrwx--- root     sdcard_r        0 2016-01-22 09:33 1453422818281_energy_time.txt\r\n",
      "-rwxrwx--- root     sdcard_r       42 2016-01-22 09:37 1453422930818_datasize.txt\r\n",
      "-rwxrwx--- root     sdcard_r     3996 2016-01-22 09:39 1453422930818_energy_time.txt\r\n",
      "-rwxrwx--- root     sdcard_r        0 2016-01-22 09:39 1453423192592_datasize.txt\r\n",
      "-rwxrwx--- root     sdcard_r        0 2016-01-22 09:39 1453423192592_energy_time.txt\r\n",
      "-rwxrwx--- root     sdcard_r        0 2016-01-22 09:42 1453423337200_datasize.txt\r\n",
      "-rwxrwx--- root     sdcard_r        0 2016-01-22 09:42 1453423337200_energy_time.txt\r\n",
      "-rwxrwx--- root     sdcard_r        0 2016-01-22 09:42 1453423379557_datasize.txt\r\n",
      "-rwxrwx--- root     sdcard_r        0 2016-01-22 09:42 1453423379557_energy_time.txt\r\n",
      "-rwxrwx--- root     sdcard_r        0 2016-01-22 09:43 1453423381863_datasize.txt\r\n",
      "-rwxrwx--- root     sdcard_r        0 2016-01-22 09:43 1453423381863_energy_time.txt\r\n",
      "-rwxrwx--- root     sdcard_r        0 2016-01-22 09:58 1453424299722_datasize.txt\r\n",
      "-rwxrwx--- root     sdcard_r        0 2016-01-22 09:58 1453424299722_energy_time.txt\r\n",
      "-rwxrwx--- root     sdcard_r        0 2016-01-22 09:58 1453424334674_datasize_inception-bn.txt\r\n",
      "-rwxrwx--- root     sdcard_r     2236 2016-01-22 10:01 1453424334674_energy_time.txt\r\n",
      "-rwxrwx--- root     sdcard_r      105 2016-01-22 10:09 1453424482843_datasize_inception-bn.txt\r\n",
      "-rwxrwx--- root     sdcard_r    11023 2016-01-22 10:12 1453424482843_energy_time.txt\r\n",
      "-rwxrwx--- root     sdcard_r        0 2016-01-22 10:12 1453425164492_datasize_inception-bn.txt\r\n",
      "-rwxrwx--- root     sdcard_r      155 2016-01-22 10:12 1453425164492_energy_time.txt\r\n",
      "-rwxrwx--- root     sdcard_r        0 2016-01-22 10:12 1453425166718_datasize_inception-bn.txt\r\n",
      "-rwxrwx--- root     sdcard_r      124 2016-01-22 10:12 1453425166718_energy_time.txt\r\n",
      "-rwxrwx--- root     sdcard_r      306 2016-01-22 11:08 1453425238176_datasize_inception-bn.txt\r\n",
      "-rwxrwx--- root     sdcard_r   212110 2016-01-23 04:17 1453425238176_energy_time.txt\r\n",
      "\n",
      "[]\n"
     ]
    }
   ],
   "source": [
    "print get_runs()"
   ]
  },
  {
   "cell_type": "code",
   "execution_count": 9,
   "metadata": {
    "collapsed": false
   },
   "outputs": [
    {
     "data": {
      "text/html": [
       "<iframe id=\"igraph\" scrolling=\"no\" style=\"border:none;\"seamless=\"seamless\" src=\"https://plot.ly/~strin/52.embed\" height=\"525px\" width=\"100%\"></iframe>"
      ],
      "text/plain": [
       "<IPython.core.display.HTML object>"
      ]
     },
     "execution_count": 9,
     "metadata": {},
     "output_type": "execute_result"
    }
   ],
   "source": [
    "vs = get_vs('1453338744020', 'datasize')\n",
    "HTML(plot_xy(vs['size'], vs['time'], ylabel='num'))"
   ]
  },
  {
   "cell_type": "code",
   "execution_count": 63,
   "metadata": {
    "collapsed": false
   },
   "outputs": [
    {
     "data": {
      "text/html": [
       "<iframe id=\"igraph\" scrolling=\"no\" style=\"border:none;\"seamless=\"seamless\" src=\"https://plot.ly/~strin/52.embed\" height=\"525px\" width=\"100%\"></iframe>"
      ],
      "text/plain": [
       "<IPython.core.display.HTML object>"
      ]
     },
     "execution_count": 63,
     "metadata": {},
     "output_type": "execute_result"
    }
   ],
   "source": [
    "vs = get_vs('1453338744020', 'datasize')\n",
    "HTML(plot_xy(vs['size'], vs['energy']))"
   ]
  },
  {
   "cell_type": "code",
   "execution_count": 64,
   "metadata": {
    "collapsed": false
   },
   "outputs": [
    {
     "data": {
      "text/html": [
       "<iframe id=\"igraph\" scrolling=\"no\" style=\"border:none;\"seamless=\"seamless\" src=\"https://plot.ly/~strin/52.embed\" height=\"525px\" width=\"100%\"></iframe>"
      ],
      "text/plain": [
       "<IPython.core.display.HTML object>"
      ]
     },
     "execution_count": 64,
     "metadata": {},
     "output_type": "execute_result"
    }
   ],
   "source": [
    "vs = get_vs('1453338744020', 'energy_time')\n",
    "HTML(plot_xy(vs['time'], vs['energy']))"
   ]
  },
  {
   "cell_type": "code",
   "execution_count": 5,
   "metadata": {
    "collapsed": false
   },
   "outputs": [
    {
     "data": {
      "text/html": [
       "<iframe id=\"igraph\" scrolling=\"no\" style=\"border:none;\"seamless=\"seamless\" src=\"https://plot.ly/~strin/52.embed\" height=\"525px\" width=\"100%\"></iframe>"
      ],
      "text/plain": [
       "<IPython.core.display.HTML object>"
      ]
     },
     "execution_count": 5,
     "metadata": {},
     "output_type": "execute_result"
    }
   ],
   "source": [
    "vs = get_vs('1453425238176', 'datasize_inception-bn')\n",
    "HTML(plot_xy(vs['size'], vs['energy']))"
   ]
  },
  {
   "cell_type": "code",
   "execution_count": 6,
   "metadata": {
    "collapsed": false
   },
   "outputs": [
    {
     "data": {
      "text/html": [
       "<iframe id=\"igraph\" scrolling=\"no\" style=\"border:none;\"seamless=\"seamless\" src=\"https://plot.ly/~strin/52.embed\" height=\"525px\" width=\"100%\"></iframe>"
      ],
      "text/plain": [
       "<IPython.core.display.HTML object>"
      ]
     },
     "execution_count": 6,
     "metadata": {},
     "output_type": "execute_result"
    }
   ],
   "source": [
    "vs = get_vs('1453425238176', 'datasize_inception-bn')\n",
    "HTML(plot_xy(vs['size'], vs['time']))"
   ]
  },
  {
   "cell_type": "code",
   "execution_count": 16,
   "metadata": {
    "collapsed": false,
    "scrolled": true
   },
   "outputs": [
    {
     "data": {
      "text/html": [
       "<iframe id=\"igraph\" scrolling=\"no\" style=\"border:none;\"seamless=\"seamless\" src=\"https://plot.ly/~strin/52.embed\" height=\"525px\" width=\"100%\"></iframe>"
      ],
      "text/plain": [
       "<IPython.core.display.HTML object>"
      ]
     },
     "execution_count": 16,
     "metadata": {},
     "output_type": "execute_result"
    }
   ],
   "source": [
    "vs_1M = get_vs('1453338744020', 'datasize')\n",
    "vs_10M = get_vs('1453425238176', 'datasize_inception-bn')\n",
    "\n",
    "HTML(plot_xy([vs_1M['size'], vs_10M['size']], [vs_1M['time'], vs_10M['time']], names=['Small-1M', 'Inception-BN-10M'], xlabel='#photos', ylabel='time (ms)', title='running time of models'))"
   ]
  },
  {
   "cell_type": "code",
   "execution_count": 15,
   "metadata": {
    "collapsed": false
   },
   "outputs": [
    {
     "data": {
      "text/html": [
       "<iframe id=\"igraph\" scrolling=\"no\" style=\"border:none;\"seamless=\"seamless\" src=\"https://plot.ly/~strin/52.embed\" height=\"525px\" width=\"100%\"></iframe>"
      ],
      "text/plain": [
       "<IPython.core.display.HTML object>"
      ]
     },
     "execution_count": 15,
     "metadata": {},
     "output_type": "execute_result"
    }
   ],
   "source": [
    "vs_1M = get_vs('1453338744020', 'datasize')\n",
    "vs_10M = get_vs('1453425238176', 'datasize_inception-bn')\n",
    "\n",
    "HTML(plot_xy([vs_1M['size'], vs_10M['size']], [vs_1M['energy'], vs_10M['energy']], names=['Small-1M', 'Inception-BN-10M'], xlabel='#photos', ylabel='time (ms)', title='energy consumption of models'))"
   ]
  },
  {
   "cell_type": "code",
   "execution_count": null,
   "metadata": {
    "collapsed": true
   },
   "outputs": [],
   "source": []
  }
 ],
 "metadata": {
  "kernelspec": {
   "display_name": "Python 2",
   "language": "python",
   "name": "python2"
  },
  "language_info": {
   "codemirror_mode": {
    "name": "ipython",
    "version": 2
   },
   "file_extension": ".py",
   "mimetype": "text/x-python",
   "name": "python",
   "nbconvert_exporter": "python",
   "pygments_lexer": "ipython2",
   "version": "2.7.10"
  }
 },
 "nbformat": 4,
 "nbformat_minor": 0
}
