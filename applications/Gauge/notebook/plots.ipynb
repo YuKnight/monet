{
 "cells": [
  {
   "cell_type": "code",
   "execution_count": 52,
   "metadata": {
    "collapsed": false
   },
   "outputs": [],
   "source": [
    "from utils import *\n",
    "from IPython.display import HTML"
   ]
  },
  {
   "cell_type": "code",
   "execution_count": 59,
   "metadata": {
    "collapsed": false
   },
   "outputs": [
    {
     "name": "stdout",
     "output_type": "stream",
     "text": [
      "output -rwxrwx--- root     sdcard_r      655 2016-01-21 04:35 1453318492853.txt\r\n",
      "-rwxrwx--- root     sdcard_r     2424 2016-01-21 04:38 1453318543385.txt\r\n",
      "-rwxrwx--- root     sdcard_r     1180 2016-01-21 04:40 1453318717078.txt\r\n",
      "-rwxrwx--- root     sdcard_r      805 2016-01-21 04:42 1453318847937.txt\r\n",
      "-rwxrwx--- root     sdcard_r     5251 2016-01-21 04:56 1453319423688_energy_time.txt\r\n",
      "-rwxrwx--- root     sdcard_r   213792 2016-01-21 08:35 1453319774728_energy_time.txt\r\n",
      "-rwxrwx--- root     sdcard_r        0 2016-01-21 08:35 1453332904353_energy_time.txt\r\n",
      "-rwxrwx--- root     sdcard_r        0 2016-01-21 08:35 1453332906657_energy_time.txt\r\n",
      "-rwxrwx--- root     sdcard_r        0 2016-01-21 08:35 1453332907404_energy_time.txt\r\n",
      "-rwxrwx--- root     sdcard_r      531 2016-01-21 08:35 1453332908205_energy_time.txt\r\n",
      "-rwxrwx--- root     sdcard_r        0 2016-01-21 08:35 1453332946439_energy_time.txt\r\n",
      "-rwxrwx--- root     sdcard_r        0 2016-01-21 08:35 1453332947188_energy_time.txt\r\n",
      "-rwxrwx--- root     sdcard_r        0 2016-01-21 08:35 1453332947504_energy_time.txt\r\n",
      "-rwxrwx--- root     sdcard_r        0 2016-01-21 08:35 1453332948052_energy_time.txt\r\n",
      "-rwxrwx--- root     sdcard_r       82 2016-01-21 08:35 1453332949109_energy_time.txt\r\n",
      "-rwxrwx--- root     sdcard_r     2782 2016-01-21 09:21 1453335500515_energy_time.txt\r\n",
      "-rwxrwx--- root     sdcard_r      944 2016-01-21 09:22 1453335697113_energy_time.txt\r\n",
      "-rwxrwx--- root     sdcard_r      711 2016-01-21 09:24 1453335819145_energy_time.txt\r\n",
      "-rwxrwx--- root     sdcard_r     1770 2016-01-21 09:26 1453335872332_energy_time.txt\r\n",
      "-rwxrwx--- root     sdcard_r      799 2016-01-21 09:27 1453336023429_energy_time.txt\r\n",
      "-rwxrwx--- root     sdcard_r     3329 2016-01-21 09:31 1453336083532_energy_time.txt\r\n",
      "-rwxrwx--- root     sdcard_r     1095 2016-01-21 09:33 1453336321708_energy_time.txt\r\n",
      "-rwxrwx--- root     sdcard_r     1275 2016-01-21 09:35 1453336416097_energy_time.txt\r\n",
      "-rwxrwx--- root     sdcard_r     1102 2016-01-21 09:36 1453336508261_energy_time.txt\r\n",
      "-rwxrwx--- root     sdcard_r      526 2016-01-21 09:37 1453336591538_energy_time.txt\r\n",
      "-rwxrwx--- root     sdcard_r      681 2016-01-21 09:38 1453336668804_energy_time.txt\r\n",
      "-rwxrwx--- root     sdcard_r     1412 2016-01-21 09:57 1453337777524_energy_time.txt\r\n",
      "-rwxrwx--- root     sdcard_r     1673 2016-01-21 09:59 1453337879806_energy_time.txt\r\n",
      "-rwxrwx--- root     sdcard_r     5525 2016-01-21 10:06 1453337996983_energy_time.txt\r\n",
      "-rwxrwx--- root     sdcard_r      160 2016-01-21 10:08 1453338367555_datasize.txt\r\n",
      "-rwxrwx--- root     sdcard_r     2227 2016-01-21 10:08 1453338367555_energy_time.txt\r\n",
      "-rwxrwx--- root     sdcard_r      155 2016-01-21 10:10 1453338518574_datasize.txt\r\n",
      "-rwxrwx--- root     sdcard_r     2930 2016-01-21 10:11 1453338518574_energy_time.txt\r\n",
      "-rwxrwx--- root     sdcard_r        0 2016-01-21 10:11 1453338713304_datasize.txt\r\n",
      "-rwxrwx--- root     sdcard_r        0 2016-01-21 10:11 1453338713304_energy_time.txt\r\n",
      "-rwxrwx--- root     sdcard_r        0 2016-01-21 10:11 1453338715608_datasize.txt\r\n",
      "-rwxrwx--- root     sdcard_r       27 2016-01-21 10:11 1453338715608_energy_time.txt\r\n",
      "-rwxrwx--- root     sdcard_r        0 2016-01-21 10:12 1453338721987_datasize.txt\r\n",
      "-rwxrwx--- root     sdcard_r      225 2016-01-21 10:12 1453338721987_energy_time.txt\r\n",
      "-rwxrwx--- root     sdcard_r      252 2016-01-21 10:17 1453338744020_datasize.txt\r\n",
      "-rwxrwx--- root     sdcard_r     5221 2016-01-21 10:18 1453338744020_energy_time.txt\r\n",
      "\n",
      "[]\n"
     ]
    }
   ],
   "source": [
    "print get_runs()"
   ]
  },
  {
   "cell_type": "code",
   "execution_count": 60,
   "metadata": {
    "collapsed": false
   },
   "outputs": [
    {
     "data": {
      "text/html": [
       "<iframe id=\"igraph\" scrolling=\"no\" style=\"border:none;\"seamless=\"seamless\" src=\"https://plot.ly/~strin/52.embed\" height=\"525px\" width=\"100%\"></iframe>"
      ],
      "text/plain": [
       "<IPython.core.display.HTML object>"
      ]
     },
     "execution_count": 60,
     "metadata": {},
     "output_type": "execute_result"
    }
   ],
   "source": [
    "vs = get_vs('1453338744020', 'datasize')\n",
    "HTML(plot_xy(vs['size'], vs['time']))"
   ]
  },
  {
   "cell_type": "code",
   "execution_count": 61,
   "metadata": {
    "collapsed": false
   },
   "outputs": [
    {
     "data": {
      "text/html": [
       "<iframe id=\"igraph\" scrolling=\"no\" style=\"border:none;\"seamless=\"seamless\" src=\"https://plot.ly/~strin/52.embed\" height=\"525px\" width=\"100%\"></iframe>"
      ],
      "text/plain": [
       "<IPython.core.display.HTML object>"
      ]
     },
     "execution_count": 61,
     "metadata": {},
     "output_type": "execute_result"
    }
   ],
   "source": [
    "vs = get_vs('1453338744020', 'datasize')\n",
    "HTML(plot_xy(vs['size'], vs['energy']))"
   ]
  },
  {
   "cell_type": "code",
   "execution_count": null,
   "metadata": {
    "collapsed": true
   },
   "outputs": [],
   "source": [
    " "
   ]
  }
 ],
 "metadata": {
  "kernelspec": {
   "display_name": "Python 2",
   "language": "python",
   "name": "python2"
  },
  "language_info": {
   "codemirror_mode": {
    "name": "ipython",
    "version": 2
   },
   "file_extension": ".py",
   "mimetype": "text/x-python",
   "name": "python",
   "nbconvert_exporter": "python",
   "pygments_lexer": "ipython2",
   "version": "2.7.10"
  }
 },
 "nbformat": 4,
 "nbformat_minor": 0
}
